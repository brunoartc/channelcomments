{
 "cells": [
  {
   "cell_type": "code",
   "execution_count": 32,
   "metadata": {},
   "outputs": [
    {
     "name": "stdout",
     "output_type": "stream",
     "text": [
      "Ttest_indResult(statistic=4.859476678772502, pvalue=1.1237694471544539e-05)\n",
      "Ttest_indResult(statistic=7.058630171105152, pvalue=8.135086934920493e-11)\n",
      "Ttest_indResult(statistic=3.307565253840196, pvalue=0.003475475898427002)\n"
     ]
    },
    {
     "data": {
      "image/png": "[encoded data removed]",
      "text/plain": [
       "<Figure size 432x288 with 1 Axes>"
      ]
     },
     "metadata": {},
     "output_type": "display_data"
    }
   ],
   "source": [
    "\n",
    "from scipy.stats import ttest_ind\n",
    "\n",
    "import matplotlib.pyplot as bobo\n",
    "\n",
    "fig1, ax1 = bobo.subplots()\n",
    "\n",
    "ax1.set_title('Basic Plot')\n",
    "\n",
    "\n",
    "stats = {\"P\": [18, 18, 20, 11, 23, 64, 51, 57, 54, 30, 429, 137, 18, 68, 135, 16, 131, 140, 9, 154, 129], \"C\": [9, 18, 6, 18, 17, 7, 16, 1, 1, 2, 1, 4, 18, 6, 18, 7, 17, 30, 11, 35, 2, 16, 15, 33, 1, 1, 1, 2, 4, 40, 4, 11, 2, 26, 52, 15, 7, 45, 19, 14, 1, 2, 1, 2, 1, 1, 10, 35, 5, 21, 5, 9, 16, 6, 5, 54, 14, 28, 6, 1, 1, 1, 3, 4, 9, 12, 35, 5, 13, 19, 10, 8, 12, 2, 1, 1, 1, 1, 23, 4, 8, 4, 2, 6, 14, 1, 13, 2, 4, 8, 3, 2, 10, 105, 3, 1, 2, 1, 3, 3, 1, 3, 2, 18, 23, 28, 87, 7, 42, 48, 18, 1, 2, 23, 3, 5, 5, 2, 12, 1, 4, 2, 5, 96, 10, 43, 6, 11, 32], \"M\": [1, 1, 1, 2, 2, 1, 2, 1, 2, 1, 1, 1, 2, 1, 3, 2, 4, 7, 1, 5, 5, 1, 1, 1, 2, 2, 1, 1, 1, 2, 1, 1, 1]}\n",
    "\n",
    "ax1.boxplot([stats[\"C\"], stats[\"M\"], stats[\"P\"]], vert=False)\n",
    "\n",
    "print(ttest_ind(stats['P'], stats['M'], equal_var=True, axis=0))\n",
    "\n",
    "print(ttest_ind(stats['C'], stats['M'], equal_var=False, axis=0))\n",
    "\n",
    "print(ttest_ind(stats['P'], stats['C'], equal_var=False, axis=0))\n"
   ]
  },
  {
   "cell_type": "code",
   "execution_count": null,
   "metadata": {},
   "outputs": [],
   "source": []
  }
 ],
 "metadata": {
  "kernelspec": {
   "display_name": "Python 3",
   "language": "python",
   "name": "python3"
  },
  "language_info": {
   "codemirror_mode": {
    "name": "ipython",
    "version": 3
   },
   "file_extension": ".py",
   "mimetype": "text/x-python",
   "name": "python",
   "nbconvert_exporter": "python",
   "pygments_lexer": "ipython3",
   "version": "3.6.9"
  }
 },
 "nbformat": 4,
 "nbformat_minor": 2
}
